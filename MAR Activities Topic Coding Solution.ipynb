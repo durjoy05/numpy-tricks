{
 "cells": [
  {
   "cell_type": "code",
   "execution_count": 6,
   "id": "edcd08d6",
   "metadata": {},
   "outputs": [],
   "source": [
    "import pandas as pd\n",
    "import numpy as np\n",
    "import os\n",
    "import seaborn as sn\n",
    "import matplotlib.pyplot as plt"
   ]
  },
  {
   "cell_type": "code",
   "execution_count": 2,
   "id": "a6b48f9f",
   "metadata": {},
   "outputs": [],
   "source": [
    "%matplotlib inline"
   ]
  },
  {
   "cell_type": "code",
   "execution_count": 3,
   "id": "1dcfca9e",
   "metadata": {},
   "outputs": [],
   "source": [
    "dataset=pd.read_csv(\"food-price-index-december-2021-index-numbers-csv-tables.csv\")"
   ]
  },
  {
   "cell_type": "code",
   "execution_count": 4,
   "id": "b88b4381",
   "metadata": {},
   "outputs": [
    {
     "data": {
      "text/plain": [
       "pandas.core.frame.DataFrame"
      ]
     },
     "execution_count": 4,
     "metadata": {},
     "output_type": "execute_result"
    }
   ],
   "source": [
    "type(dataset)"
   ]
  },
  {
   "cell_type": "code",
   "execution_count": 5,
   "id": "6eb23bf8",
   "metadata": {},
   "outputs": [
    {
     "name": "stdout",
     "output_type": "stream",
     "text": [
      "12091\n",
      "<class 'pandas.core.frame.DataFrame'>\n",
      "RangeIndex: 12091 entries, 0 to 12090\n",
      "Data columns (total 8 columns):\n",
      " #   Column            Non-Null Count  Dtype  \n",
      "---  ------            --------------  -----  \n",
      " 0   Series_reference  12091 non-null  object \n",
      " 1   Period            12091 non-null  float64\n",
      " 2   Data_value        12088 non-null  float64\n",
      " 3   STATUS            12091 non-null  object \n",
      " 4   UNITS             12091 non-null  object \n",
      " 5   Subject           12091 non-null  object \n",
      " 6   Group             12091 non-null  object \n",
      " 7   Series_title_1    12091 non-null  object \n",
      "dtypes: float64(2), object(6)\n",
      "memory usage: 755.8+ KB\n",
      "None\n",
      "             Period    Data_value\n",
      "count  12091.000000  12088.000000\n",
      "mean    2005.898957    810.468943\n",
      "std       11.668583    236.481055\n",
      "min     1960.010000     45.116296\n",
      "25%     2000.100000    680.097028\n",
      "50%     2008.050000    845.990857\n",
      "75%     2015.030000   1000.000000\n",
      "max     2021.120000   1263.000000\n"
     ]
    }
   ],
   "source": [
    "#metadata information of the dataset\n",
    "print(len(dataset))\n",
    "print(dataset.info())\n",
    "print(dataset.describe())"
   ]
  },
  {
   "cell_type": "code",
   "execution_count": 9,
   "id": "35592419",
   "metadata": {},
   "outputs": [
    {
     "name": "stdout",
     "output_type": "stream",
     "text": [
      "The data to be plotted:\n",
      "\n",
      "[[78 86 28 40 21 87 22 16 89 29]\n",
      " [ 8 10 80 37  5 23 14 18 96 58]\n",
      " [71 59  1 35 21 32 55 26 56 64]\n",
      " [18 17 32 81 49 94  9 77 83 25]\n",
      " [ 8 40  9 92 19  5 38 69 45 77]\n",
      " [46  7  8 54 31 37 91 73  7 46]\n",
      " [70 40 69 74 77 86 18 40 13  5]\n",
      " [33 34 72 21 26 41 59 17 86 19]\n",
      " [15 56 97 50 67 56 25 28  6 89]\n",
      " [19 60  3 40 70 29 28 53 48 43]]\n"
     ]
    },
    {
     "data": {
      "image/png": "[encoded data removed]",
      "text/plain": [
       "<Figure size 432x288 with 2 Axes>"
      ]
     },
     "metadata": {
      "needs_background": "light"
     },
     "output_type": "display_data"
    }
   ],
   "source": [
    "import numpy as np\n",
    "import seaborn as sn\n",
    "import matplotlib.pyplot as plt\n",
    "  \n",
    "# generating 2-D 10x10 matrix of random numbers\n",
    "# from 1 to 100\n",
    "data = np.random.randint(low = 1,\n",
    "                         high = 100,\n",
    "                         size = (10, 10))\n",
    "print(\"The data to be plotted:\\n\")\n",
    "print(data)\n",
    "\n",
    "# plotting the heatmap\n",
    "hm = sn.heatmap(data = data)\n",
    "  \n",
    "# displaying the plotted heatmap\n",
    "plt.show()"
   ]
  },
  {
   "cell_type": "code",
   "execution_count": null,
   "id": "7189adb2",
   "metadata": {},
   "outputs": [],
   "source": []
  }
 ],
 "metadata": {
  "kernelspec": {
   "display_name": "Python 3 (ipykernel)",
   "language": "python",
   "name": "python3"
  },
  "language_info": {
   "codemirror_mode": {
    "name": "ipython",
    "version": 3
   },
   "file_extension": ".py",
   "mimetype": "text/x-python",
   "name": "python",
   "nbconvert_exporter": "python",
   "pygments_lexer": "ipython3",
   "version": "3.9.7"
  }
 },
 "nbformat": 4,
 "nbformat_minor": 5
}
